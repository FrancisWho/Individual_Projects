{
 "cells": [
  {
   "cell_type": "code",
   "execution_count": 1,
   "metadata": {},
   "outputs": [],
   "source": [
    "import pandas as pd \n",
    "import math\n",
    "import json\n",
    "import os\n",
    "import pydot"
   ]
  },
  {
   "cell_type": "code",
   "execution_count": 2,
   "metadata": {},
   "outputs": [],
   "source": [
    "#find the attribute to split at current level\n",
    "def findIndex(attributeList):\n",
    "    global attributeIndex\n",
    "    for s in attributeList:\n",
    "        if attributeDict[s]==min(attributeDict.values()):\n",
    "            attributeIndex = s\n",
    "    splitList.append(attributeIndex)"
   ]
  },
  {
   "cell_type": "code",
   "execution_count": 3,
   "metadata": {},
   "outputs": [],
   "source": [
    "def indexsearcher(listCalculated, sampleBase):\n",
    "    global attributeDict\n",
    "    attributeDict = {}\n",
    "    for k in listCalculated:\n",
    "        #classes of each attribute\n",
    "        attributeClass=samplePool[k].unique()\n",
    "        attributeEntropy=0\n",
    "        #calculate entropy\n",
    "        for v in attributeClass:\n",
    "            Vclass=sampleBase[samplePool[k]==v]\n",
    "            Vseries=Vclass.value_counts()\n",
    "            attributeClassEntropy=sum(math.log2(n/sum(Vseries))*(-n/sum(Vseries)) for n in Vseries)\n",
    "            attributeEntropy += attributeClassEntropy*Vclass.count()/len(sampleBase)\n",
    "        #save attribute and its entroy in a dictionary\n",
    "        attributeDict[k]=attributeEntropy\n",
    "    return attributeDict"
   ]
  },
  {
   "cell_type": "code",
   "execution_count": 4,
   "metadata": {},
   "outputs": [],
   "source": [
    "#remove the attribute found at the last level\n",
    "def removeAttribute(sourceList, spliteOrder):\n",
    "    targetList = sourceList[:]\n",
    "    try:\n",
    "        targetList.remove(splitList[spliteOrder])\n",
    "    except ValueError:\n",
    "        targetList = targetList\n",
    "    return targetList"
   ]
  },
  {
   "cell_type": "code",
   "execution_count": 5,
   "metadata": {},
   "outputs": [],
   "source": [
    "#You can customize file aame, rows to read and columns to read\n",
    "fileName = 'C:/Fordham/Fall 2019/Data Mining/Homework/HW2/data files for HW 2 decision trees/example.csv'\n",
    "rowsRead = 100\n",
    "columnsRead = [0,1,2,3,4]\n",
    "samplePool = pd.read_csv(fileName, nrows=rowsRead, usecols=columnsRead)\n",
    "columnList = list(samplePool)\n",
    "attributeList = list(samplePool)\n",
    "del attributeList[-1]\n",
    "#save the attributes to split in a list by order\n",
    "splitList = ['index']"
   ]
  },
  {
   "cell_type": "code",
   "execution_count": 6,
   "metadata": {},
   "outputs": [],
   "source": [
    "treeDict={}\n",
    "treeDict1={}\n",
    "attributeDict={}\n",
    "for i in attributeList:\n",
    "    #classes of each attribute\n",
    "    attributeClass1=samplePool[i].unique()\n",
    "    attributeEntropy1=0\n",
    "    #calculate entropy\n",
    "    for x1 in attributeClass1:\n",
    "        X1class=samplePool[columnList[-1]][samplePool[i]==x1]\n",
    "        X1series=X1class.value_counts()\n",
    "        attributeClassEntropy1=sum(math.log2(n/sum(X1series))*(-n/sum(X1series)) for n in X1series)\n",
    "        attributeEntropy1 += attributeClassEntropy1*X1class.count()/len(samplePool)\n",
    "    #save attribute and its entroy in a dictionary\n",
    "    attributeDict[i]=attributeEntropy1\n",
    "findIndex(attributeList)\n",
    "attributeClass1=samplePool[splitList[1]].unique()"
   ]
  },
  {
   "cell_type": "code",
   "execution_count": 7,
   "metadata": {},
   "outputs": [
    {
     "data": {
      "text/plain": [
       "1     soft\n",
       "3     hard\n",
       "5     soft\n",
       "7     hard\n",
       "9     soft\n",
       "11    hard\n",
       "13    soft\n",
       "15    none\n",
       "17    none\n",
       "19    hard\n",
       "21    soft\n",
       "23    none\n",
       "Name: Recommended Lenses, dtype: object"
      ]
     },
     "execution_count": 7,
     "metadata": {},
     "output_type": "execute_result"
    }
   ],
   "source": [
    "X1class"
   ]
  },
  {
   "cell_type": "code",
   "execution_count": 7,
   "metadata": {
    "scrolled": true
   },
   "outputs": [
    {
     "data": {
      "text/plain": [
       "{'Tear Production Rate: reduced': 'none 1.0',\n",
       " 'Tear Production Rate: normal': {'Astigmatism: no': {'Age: young': 'soft 1.0',\n",
       "   'Age: pre-presbyopic': 'soft 1.0',\n",
       "   'Age: presbyopic': {'Spectacle Prescription: myope': 'none 1.0',\n",
       "    'Spectacle Prescription: hypermetrope': 'soft 1.0'}},\n",
       "  'Astigmatism: yes': {'Age: young': 'hard 1.0',\n",
       "   'Age: pre-presbyopic': {'Spectacle Prescription: myope': 'hard 1.0',\n",
       "    'Spectacle Prescription: hypermetrope': 'none 1.0'},\n",
       "   'Age: presbyopic': {'Spectacle Prescription: myope': 'hard 1.0',\n",
       "    'Spectacle Prescription: hypermetrope': 'none 1.0'}}}}"
      ]
     },
     "execution_count": 7,
     "metadata": {},
     "output_type": "execute_result"
    }
   ],
   "source": [
    "#remaining attribute could be used at current level\n",
    "attributeList1 = removeAttribute(attributeList, 1)\n",
    "for x1 in attributeClass1:\n",
    "    treeDict2 = {}\n",
    "    X1class=samplePool[columnList[-1]][samplePool[splitList[1]]==x1]\n",
    "    X1series=X1class.value_counts()\n",
    "    attributeClassEntropy1=sum(math.log2(n/sum(X1series))*(-n/sum(X1series)) for n in X1series) \n",
    "    attributeEntropy1 += attributeClassEntropy1*X1class.count()/len(samplePool)\n",
    "    #get the mode value and its confidence of each class at the split attribute\n",
    "    X1Mode = X1class.mode()[0]\n",
    "    X1Confidence = str(X1series[X1Mode]/sum(X1series))\n",
    "    #save the class and confidence in dictionary\n",
    "    treeDict1[splitList[1]+': '+x1] = X1class.mode()[0]+' '+X1Confidence\n",
    "    #Check if there are any remaining attributes to split\n",
    "    if len(splitList) <= len(columnList):\n",
    "        if attributeClassEntropy1 != 0:\n",
    "            indexsearcher(attributeList1, X1class)\n",
    "            if len(splitList) < 3:\n",
    "                findIndex(attributeList1)\n",
    "            attributeClass2=samplePool[splitList[2]].unique()\n",
    "            attributeList2 = removeAttribute(attributeList1, 2)\n",
    "            for x2 in attributeClass2:\n",
    "                treeDict3 = {}\n",
    "                X2class=X1class[samplePool[splitList[2]]==x2]\n",
    "                X2series=X2class.value_counts()\n",
    "                attributeClassEntropy2=sum(math.log2(n/sum(X2series))*(-n/sum(X2series)) for n in X2series)\n",
    "                X2Mode = X2class.mode()[0]\n",
    "                X2Confidence = str(X2series[X2Mode]/sum(X2series))\n",
    "                #get the mode value and its confidence of each class at the split attribute\n",
    "                treeDict2[splitList[2]+': '+x2] = X2class.mode()[0]+' '+X2Confidence\n",
    "                #Check if there are any remaining attributes to split\n",
    "                if len(splitList) <= len(columnList):\n",
    "                    if attributeClassEntropy2 != 0:\n",
    "                        indexsearcher(attributeList2, X2class)\n",
    "                        if len(splitList) < 4:\n",
    "                            findIndex(attributeList2)\n",
    "                        attributeClass3=samplePool[splitList[3]].unique()\n",
    "                        attributeList3 = removeAttribute(attributeList2, 3)\n",
    "                        for x3 in attributeClass3:\n",
    "                            treeDict4 = {}\n",
    "                            X3class=X2class[samplePool[splitList[3]]==x3]\n",
    "                            X3series=X3class.value_counts()\n",
    "                            attributeClassEntropy3=sum(math.log2(n/sum(X3series))*(-n/sum(X3series)) for n in X3series)\n",
    "                            X3Mode = X3class.mode()[0]\n",
    "                            X3Confidence = str(X3series[X3Mode]/sum(X3series))\n",
    "                            #get the mode value and its confidence of each class at the split attribute\n",
    "                            treeDict3[splitList[3]+': '+x3] = X3class.mode()[0]+' '+X3Confidence\n",
    "                            #Check if there are any remaining attributes to split\n",
    "                            if len(splitList) <= len(columnList):\n",
    "                                if attributeClassEntropy3 != 0:\n",
    "                                    indexsearcher(attributeList3, X3class)\n",
    "                                    if len(splitList) < 5:\n",
    "                                        findIndex(attributeList3)\n",
    "                                    attributeClass4=samplePool[splitList[4]].unique()\n",
    "                                    for x4 in attributeClass4:\n",
    "                                        X4class=X3class[samplePool[splitList[4]]==x4]\n",
    "                                        X4series=X4class.value_counts()\n",
    "                                        attributeClassEntropy4=sum(math.log2(n/sum(X4series))*(-n/sum(X4series)) for n in X4series)\n",
    "                                        X4Mode = X4class.mode()[0]\n",
    "                                        X4Confidence = str(X4series[X4Mode]/sum(X4series))\n",
    "                                        #get the mode value and its confidence of each class at the split attribute\n",
    "                                        treeDict4[splitList[4]+': '+x4] = X4class.mode()[0]+' '+X4Confidence\n",
    "                                    treeDict3[splitList[3]+': '+x3] = treeDict4\n",
    "                        treeDict2[splitList[2]+': '+x2] = treeDict3\n",
    "            treeDict1[splitList[1]+': '+x1] = treeDict2  "
   ]
  },
  {
   "cell_type": "code",
   "execution_count": 30,
   "metadata": {},
   "outputs": [
    {
     "name": "stdout",
     "output_type": "stream",
     "text": [
      "{\n",
      "  \"Root:\": {\n",
      "    \"Tear Production Rate: reduced\": \"none 1.0\",\n",
      "    \"Tear Production Rate: normal\": {\n",
      "      \"Astigmatism: no\": {\n",
      "        \"Age: young\": \"soft 1.0\",\n",
      "        \"Age: pre-presbyopic\": \"soft 1.0\",\n",
      "        \"Age: presbyopic\": {\n",
      "          \"Spectacle Prescription: myope\": \"none 1.0\",\n",
      "          \"Spectacle Prescription: hypermetrope\": \"soft 1.0\"\n",
      "        }\n",
      "      },\n",
      "      \"Astigmatism: yes\": {\n",
      "        \"Age: young\": \"hard 1.0\",\n",
      "        \"Age: pre-presbyopic\": {\n",
      "          \"Spectacle Prescription: myope\": \"hard 1.0\",\n",
      "          \"Spectacle Prescription: hypermetrope\": \"none 1.0\"\n",
      "        },\n",
      "        \"Age: presbyopic\": {\n",
      "          \"Spectacle Prescription: myope\": \"hard 1.0\",\n",
      "          \"Spectacle Prescription: hypermetrope\": \"none 1.0\"\n",
      "        }\n",
      "      }\n",
      "    }\n",
      "  }\n",
      "}\n"
     ]
    }
   ],
   "source": [
    "#Show the tree structure\n",
    "#Code from https://blog.csdn.net/u013061183/article/details/77231751\n",
    "treeDict['Root:']=treeDict1\n",
    "print(json.dumps(treeDict, indent=2))\n",
    "#End of code from https://blog.csdn.net/u013061183/article/details/77231751"
   ]
  },
  {
   "cell_type": "code",
   "execution_count": 53,
   "metadata": {
    "scrolled": true
   },
   "outputs": [],
   "source": [
    "#Code from https://stackoverflow.com/questions/13688410/dictionary-object-to-decision-tree-in-pydot\n",
    "def draw(parent_name, child_name):\n",
    "    edge = pydot.Edge(parent_name, child_name)\n",
    "    graph.add_edge(edge)\n",
    "\n",
    "def visit(node, parent=None):\n",
    "    for k,v in node.items():\n",
    "        if isinstance(v, dict):\n",
    "            # We start with the root node whose parent is None\n",
    "            # we don't want to graph the None node\n",
    "            if parent:\n",
    "                draw(parent, parent+'\\n'+k)\n",
    "            if parent == None:\n",
    "                visit(v, k)\n",
    "            else:\n",
    "                visit(v, parent+'\\n'+k) \n",
    "        else:\n",
    "            draw(parent, parent+'\\n'+k)\n",
    "            # drawing the label using a distinct name\n",
    "            draw(parent+'\\n'+k, parent+'\\n'+k+'_'+v)\n",
    "\n",
    "graph = pydot.Dot(graph_type='graph')\n",
    "visit(treeDict)\n",
    "graph.write_png('treeDict_graph.png')\n",
    "#Code from https://stackoverflow.com/questions/13688410/dictionary-object-to-decision-tree-in-pydot"
   ]
  }
 ],
 "metadata": {
  "kernelspec": {
   "display_name": "Python 3",
   "language": "python",
   "name": "python3"
  },
  "language_info": {
   "codemirror_mode": {
    "name": "ipython",
    "version": 3
   },
   "file_extension": ".py",
   "mimetype": "text/x-python",
   "name": "python",
   "nbconvert_exporter": "python",
   "pygments_lexer": "ipython3",
   "version": "3.7.4"
  }
 },
 "nbformat": 4,
 "nbformat_minor": 2
}
